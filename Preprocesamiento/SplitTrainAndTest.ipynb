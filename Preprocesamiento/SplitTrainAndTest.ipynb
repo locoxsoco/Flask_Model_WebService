{
 "cells": [
  {
   "cell_type": "code",
   "execution_count": 15,
   "metadata": {},
   "outputs": [],
   "source": [
    "import os\n",
    "import random"
   ]
  },
  {
   "cell_type": "code",
   "execution_count": 4,
   "metadata": {},
   "outputs": [],
   "source": [
    "src_dir=\"./train_img\""
   ]
  },
  {
   "cell_type": "code",
   "execution_count": 28,
   "metadata": {},
   "outputs": [
    {
     "name": "stdout",
     "output_type": "stream",
     "text": [
      "cereal :  16\n",
      "chips :  10\n",
      "cafe :  17\n",
      "jamon :  14\n",
      "maiz :  5\n",
      "chocolate :  18\n",
      "caramelo :  21\n",
      "gaseosa :  10\n",
      "pescado :  6\n",
      "miel :  10\n",
      "arroz :  8\n",
      "azucar :  7\n",
      "especias :  12\n",
      "salsatomate :  10\n",
      "vinagre :  9\n",
      "harina :  6\n",
      "agua :  15\n",
      "nueces :  9\n",
      "leche :  9\n",
      "frijoles :  8\n",
      "te :  16\n",
      "aceite :  8\n",
      "pasta :  10\n",
      "torta :  9\n",
      "jugo :  17\n",
      "2904\n"
     ]
    }
   ],
   "source": [
    "totalFiles = 3215\n",
    "countFiles=0\n",
    "for directory in os.listdir(src_dir):\n",
    "    numFiles=0\n",
    "    for file in os.listdir(os.path.join(src_dir, directory)):\n",
    "        numFiles=numFiles+1\n",
    "        countFiles=countFiles+1\n",
    "    for i in range(int(numFiles*0.1)):\n",
    "        fe = random.choice(os.listdir(os.path.join(src_dir, directory)))\n",
    "        #if not os.path.exists('./test_img/'+directory):\n",
    "        #    os.makedirs('./test_img/'+directory)\n",
    "        #os.rename(src_dir+'/'+directory+'/'+fe, './test_img/'+directory+'/'+fe)\n",
    "                           \n",
    "    print(directory,\": \",int(numFiles*0.1))\n",
    "print(countFiles)"
   ]
  },
  {
   "cell_type": "code",
   "execution_count": null,
   "metadata": {},
   "outputs": [],
   "source": []
  },
  {
   "cell_type": "code",
   "execution_count": null,
   "metadata": {},
   "outputs": [],
   "source": []
  }
 ],
 "metadata": {
  "kernelspec": {
   "display_name": "Python 3",
   "language": "python",
   "name": "python3"
  },
  "language_info": {
   "codemirror_mode": {
    "name": "ipython",
    "version": 3
   },
   "file_extension": ".py",
   "mimetype": "text/x-python",
   "name": "python",
   "nbconvert_exporter": "python",
   "pygments_lexer": "ipython3",
   "version": "3.7.4"
  }
 },
 "nbformat": 4,
 "nbformat_minor": 2
}
